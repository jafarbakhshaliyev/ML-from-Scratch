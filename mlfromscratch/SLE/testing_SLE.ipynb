{
 "cells": [
  {
   "cell_type": "code",
   "execution_count": 1,
   "metadata": {},
   "outputs": [],
   "source": [
    "import numpy as np\n",
    "from SLE import solve_SLE"
   ]
  },
  {
   "attachments": {},
   "cell_type": "markdown",
   "metadata": {},
   "source": [
    "**Example:**\n",
    "\n",
    "$$\n",
    "2x - y + 3z - 4w = 5 \\\\\n",
    "3x + y + z + 2w = 6 \\\\\n",
    "x - 2y - z + w = 2 \\\\\n",
    "2x + y + 4z + 3w = 7\n",
    "$$\n",
    "\n"
   ]
  },
  {
   "cell_type": "code",
   "execution_count": 2,
   "metadata": {},
   "outputs": [
    {
     "name": "stdout",
     "output_type": "stream",
     "text": [
      "A = [[ 2. -1.  3. -4.]\n",
      " [ 3.  1.  1.  2.]\n",
      " [ 1. -2. -1.  1.]\n",
      " [ 2.  1.  4.  3.]]\n",
      "\n",
      "b = [[5.]\n",
      " [6.]\n",
      " [2.]\n",
      " [7.]]\n"
     ]
    }
   ],
   "source": [
    "A = np.array([[2, -1, 3, -4],[3, 1, 1, 2],[1, -2, -1, 1],[2, 1, 4, 3]], dtype = np.float32)\n",
    "b = np.array([[5.0],[6.0],[2.0],[7.0]])\n",
    "print(f'A = {A}\\n')\n",
    "print(f'b = {b}')"
   ]
  },
  {
   "cell_type": "code",
   "execution_count": 3,
   "metadata": {},
   "outputs": [
    {
     "name": "stdout",
     "output_type": "stream",
     "text": [
      "x = [ 1.67901234 -0.41358035  0.79629632  0.2901235 ]\n",
      "[5.         6.         2.00000021 7.00000013]\n"
     ]
    }
   ],
   "source": [
    "x = solve_SLE(A,b, solver = 'Gaussian')\n",
    "print(f'x = {x}')\n",
    "print(A@x)"
   ]
  },
  {
   "cell_type": "code",
   "execution_count": 4,
   "metadata": {},
   "outputs": [
    {
     "name": "stdout",
     "output_type": "stream",
     "text": [
      "x = [ 1.67901235 -0.41358025  0.7962963   0.29012346]\n",
      "[5. 6. 2. 7.]\n"
     ]
    }
   ],
   "source": [
    "x = solve_SLE(A,b, solver = 'QR')\n",
    "print(f'x = {x}')\n",
    "print(A@x)"
   ]
  }
 ],
 "metadata": {
  "kernelspec": {
   "display_name": "base",
   "language": "python",
   "name": "python3"
  },
  "language_info": {
   "codemirror_mode": {
    "name": "ipython",
    "version": 3
   },
   "file_extension": ".py",
   "mimetype": "text/x-python",
   "name": "python",
   "nbconvert_exporter": "python",
   "pygments_lexer": "ipython3",
   "version": "3.8.12"
  },
  "orig_nbformat": 4
 },
 "nbformat": 4,
 "nbformat_minor": 2
}
